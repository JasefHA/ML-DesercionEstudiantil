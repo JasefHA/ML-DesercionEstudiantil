{
 "cells": [
  {
   "cell_type": "code",
   "execution_count": 1,
   "metadata": {},
   "outputs": [],
   "source": [
    "import pandas as pd\n",
    "import os\n",
    "\n",
    "ruta_exports = r'C:\\Users\\MSII7\\Documents\\Jasef\\Desercion\\export'\n",
    "\n",
    "base_2022_1 = \"Matriculados_2022_1.csv\"\n",
    "base_2022_2 = \"Matriculados_2022_2.csv\"\n",
    "base_2023_1 = \"Matriculados_2023_1.csv\"\n",
    "base_2023_2 = \"Matriculados_2023_2.csv\"\n",
    "base_2024_1 = \"Matriculados_2024_1.csv\"\n",
    "\n",
    "ruta_matriculados_base_2022_1 = os.path.join(ruta_exports,base_2022_1)\n",
    "ruta_matriculados_base_2022_2 = os.path.join(ruta_exports,base_2022_2)\n",
    "ruta_matriculados_base_2023_1 = os.path.join(ruta_exports,base_2023_1)\n",
    "ruta_matriculados_base_2023_2 = os.path.join(ruta_exports,base_2023_2)\n",
    "ruta_matriculados_base_2024_1 = os.path.join(ruta_exports,base_2024_1)\n",
    "\n",
    "df_matriculados_2022_1 = pd.read_csv(ruta_matriculados_base_2022_1)\n",
    "df_matriculados_2022_2 = pd.read_csv(ruta_matriculados_base_2022_2)\n",
    "df_matriculados_2023_1 = pd.read_csv(ruta_matriculados_base_2023_1)\n",
    "df_matriculados_2023_2 = pd.read_csv(ruta_matriculados_base_2023_2)\n",
    "df_matriculados_2024_1 = pd.read_csv(ruta_matriculados_base_2024_1)\n",
    "\n"
   ]
  },
  {
   "cell_type": "code",
   "execution_count": 3,
   "metadata": {},
   "outputs": [],
   "source": [
    "df_desertores_2022_1 = df_matriculados_2022_1[~df_matriculados_2022_1['IdAlumno'].isin(df_matriculados_2022_2['IdAlumno'])]\n",
    "df_desertores_2022_2 = df_matriculados_2022_2[~df_matriculados_2022_2['IdAlumno'].isin(df_matriculados_2023_1['IdAlumno'])]\n",
    "df_desertores_2023_1 = df_matriculados_2023_1[~df_matriculados_2023_1['IdAlumno'].isin(df_matriculados_2023_2['IdAlumno'])]\n",
    "df_desertores_2023_2 = df_matriculados_2023_2[~df_matriculados_2023_2['IdAlumno'].isin(df_matriculados_2024_1['IdAlumno'])]\n",
    "\n",
    "\n",
    "ruta_export = r'C:\\Users\\MSII7\\Documents\\Jasef\\Desercion\\export'\n",
    "name_desertores_2022_1 = 'Desertores_2022_1.csv'\n",
    "name_desertores_2022_2 = 'Desertores_2022_2.csv'\n",
    "name_desertores_2023_1 = 'Desertores_2023_1.csv'\n",
    "name_desertores_2023_2 = 'Desertores_2023_2.csv'\n",
    "\n",
    "ruta_final_Desertores_2022_1 = os.path.join(ruta_export,name_desertores_2022_1)\n",
    "ruta_final_Desertores_2022_2 = os.path.join(ruta_export,name_desertores_2022_2)\n",
    "ruta_final_Desertores_2023_1 = os.path.join(ruta_export,name_desertores_2023_1)\n",
    "ruta_final_Desertores_2023_2 = os.path.join(ruta_export,name_desertores_2023_2)\n",
    "\n",
    "df_desertores_2022_1.to_csv(ruta_final_Desertores_2022_1,index=False)\n",
    "df_desertores_2022_2.to_csv(ruta_final_Desertores_2022_2,index=False)\n",
    "df_desertores_2023_1.to_csv(ruta_final_Desertores_2023_1,index=False)\n",
    "df_desertores_2023_2.to_csv(ruta_final_Desertores_2023_2,index=False)"
   ]
  },
  {
   "cell_type": "code",
   "execution_count": null,
   "metadata": {},
   "outputs": [],
   "source": []
  }
 ],
 "metadata": {
  "kernelspec": {
   "display_name": "Python 3",
   "language": "python",
   "name": "python3"
  },
  "language_info": {
   "codemirror_mode": {
    "name": "ipython",
    "version": 3
   },
   "file_extension": ".py",
   "mimetype": "text/x-python",
   "name": "python",
   "nbconvert_exporter": "python",
   "pygments_lexer": "ipython3",
   "version": "3.12.0"
  }
 },
 "nbformat": 4,
 "nbformat_minor": 2
}
