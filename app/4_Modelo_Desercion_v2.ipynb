{
 "cells": [
  {
   "cell_type": "markdown",
   "metadata": {},
   "source": [
    "# 1. CARGO DATAFRAMES BASE"
   ]
  },
  {
   "cell_type": "code",
   "execution_count": 1,
   "metadata": {},
   "outputs": [],
   "source": [
    "import pandas as pd\n",
    "import os\n",
    "import numpy as np\n",
    "from datetime import datetime, timedelta\n",
    "\n",
    "ruta_export = r\"C:\\Users\\MSII7\\Documents\\Jasef\\Desercion\\export\"\n",
    "ruta_output = r\"C:\\Users\\MSII7\\Documents\\Jasef\\Desercion\\output\"\n",
    "ruta_sources = r\"C:\\Users\\MSII7\\Documents\\Jasef\\Desercion\\sources\"\n",
    "\n",
    "df_matriculados_2024_1 = pd.read_csv(os.path.join(ruta_export,'Matriculados_2024_1.csv'))\n",
    "df_matriculados_2023_2 = pd.read_csv(os.path.join(ruta_export,'Matriculados_2023_2.csv'))\n",
    "df_matriculados_2023_1 = pd.read_csv(os.path.join(ruta_export,'Matriculados_2023_1.csv'))\n",
    "df_matriculados_2022_2 = pd.read_csv(os.path.join(ruta_export,'Matriculados_2022_2.csv'))\n",
    "df_matriculados_2022_1 = pd.read_csv(os.path.join(ruta_export,'Matriculados_2022_1.csv'))\n",
    "\n",
    "\n",
    "df_desertores_2023_2 = pd.read_csv(os.path.join(ruta_export,'Desertores_2023_2.csv'))\n",
    "\n",
    "df_variables = pd.read_csv(os.path.join(ruta_export,'DataMaestra_Estudiante.csv'))\n",
    "\n",
    "df_notas_2023_2 = pd.read_csv(os.path.join(ruta_sources,'DATA_DETALLE_NOTAS-2023-2.csv'))\n",
    "\n",
    "df_colegio_procedencia = pd.read_csv(\n",
    "    os.path.join(ruta_sources, 'DATA_COLEGIO_PROCEDENCIA.csv'),\n",
    "    header=None,  # Indica que el archivo no tiene cabeceras\n",
    "    names=['IdAlumno', 'Colegio', 'TipoColegio']  # Especificar las cabeceras manualmente\n",
    ")\n",
    "df_colegio_procedencia = df_colegio_procedencia.drop_duplicates(subset='IdAlumno')\n",
    "\n",
    "df_pagos_2023 = pd.read_csv(os.path.join(ruta_sources,'pagos cachimbos 2023-2.csv'))\n",
    "\n",
    "\n",
    "nota_aprobatoria = 13\n",
    "notas_desaprobadas = 7\n",
    "periodo = '2023-2'"
   ]
  },
  {
   "cell_type": "markdown",
   "metadata": {},
   "source": [
    "# CALCULO VARIABLES NOTAS"
   ]
  },
  {
   "cell_type": "code",
   "execution_count": 2,
   "metadata": {},
   "outputs": [
    {
     "name": "stdout",
     "output_type": "stream",
     "text": [
      "    IdAlumno  CantParcialesDesaprobados  CantFinalesDesaprobados  \\\n",
      "0  100002894                          0                        0   \n",
      "1  100003558                          3                        3   \n",
      "2  100003932                          1                        0   \n",
      "3  100003946                          2                        3   \n",
      "4  100003989                          0                        0   \n",
      "\n",
      "  ExcedeNotasDesaprobadasNoParcNoFin ExcedeMitadCursosDesaprobados  \\\n",
      "0                                 NO                            NO   \n",
      "1                                 NO                            SI   \n",
      "2                                 NO                            NO   \n",
      "3                                 NO                            NO   \n",
      "4                                 NO                            NO   \n",
      "\n",
      "                     ProgramaAlu  \n",
      "0          Nutrición y Dietética  \n",
      "1  Medic Veterinaria y Zootecnia  \n",
      "2                Medicina Humana  \n",
      "3  Medic Veterinaria y Zootecnia  \n",
      "4                     Psicología  \n"
     ]
    }
   ],
   "source": [
    "# Agrupar por IdAlumno y contar los registros de parciales y finales desaprobados\n",
    "df_cant_desaprobado_agrupado = df_notas_2023_2.groupby('IdAlumno').agg(\n",
    "    CantParcialesDesaprobados=(\n",
    "        'Actividad', \n",
    "        lambda x: ((x == 'EVALUACION PARCIAL') & (df_notas_2023_2.loc[x.index, 'NotaActiv'] < nota_aprobatoria)).sum()\n",
    "    ),\n",
    "    CantFinalesDesaprobados=(\n",
    "        'Actividad', \n",
    "        lambda x: ((x == 'EVALUACION FINAL') & (df_notas_2023_2.loc[x.index, 'NotaActiv'] < nota_aprobatoria)).sum()\n",
    "    ),\n",
    "    # Columna auxiliar para contar las evaluaciones diferentes de PARCIAL y FINAL desaprobadas\n",
    "    CantNotasDesaprobadasNoParcNoFin=(\n",
    "        'Actividad', \n",
    "        lambda x: ((~x.isin(['EVALUACION PARCIAL', 'EVALUACION FINAL', 'EVALUACION DIAGNOSTICA'])) & (df_notas_2023_2.loc[x.index, 'NotaActiv'] < nota_aprobatoria)).sum()\n",
    "    )\n",
    ").reset_index()\n",
    "\n",
    "# Crear la columna 'ExcedeNotasDesaprobadasNoParcNoFin'\n",
    "df_cant_desaprobado_agrupado['ExcedeNotasDesaprobadasNoParcNoFin'] = df_cant_desaprobado_agrupado['CantNotasDesaprobadasNoParcNoFin'].apply(\n",
    "    lambda x: 'SI' if x >= notas_desaprobadas else 'NO'\n",
    ")\n",
    "\n",
    "# Eliminar la columna 'CantNotasDesaprobadasNoParcNoFin' \n",
    "df_cant_desaprobado_agrupado.drop(columns=['CantNotasDesaprobadasNoParcNoFin'], inplace=True)\n",
    "\n",
    "# Calcular la nota final para cada curso por alumno\n",
    "df_notas_2023_2['NotaFinalCurso'] = np.where(\n",
    "    df_notas_2023_2['Actividad'] != 'EVALUACION DIAGNOSTICA',\n",
    "    (df_notas_2023_2['Peso'] * df_notas_2023_2['NotaActiv']) / 100,\n",
    "    np.nan  # Ignoramos las actividades diagnósticas\n",
    ")\n",
    "\n",
    "# Agrupar por IdAlumno y Curso para obtener la nota final por curso\n",
    "df_notas_finales_por_curso = df_notas_2023_2.groupby(['IdAlumno', 'Curso']).agg(\n",
    "    NotaFinalCurso=('NotaFinalCurso', 'sum')  # Sumar las notas ponderadas por curso\n",
    ").reset_index()\n",
    "\n",
    "# Redondeo las notas a su entero más cercano para el posterior conteo \n",
    "df_notas_finales_por_curso['NotaFinalCurso'] = df_notas_finales_por_curso['NotaFinalCurso'].round()\n",
    "\n",
    "# Agrupar por IdAlumno y contar los cursos desaprobados\n",
    "df_cursos_desaprobados = df_notas_finales_por_curso.groupby('IdAlumno').agg(\n",
    "    CantCursosDesaprobados=(\n",
    "        'NotaFinalCurso', \n",
    "        lambda x: (x < nota_aprobatoria).sum()\n",
    "    ),\n",
    "    CantCursos=(\n",
    "        'NotaFinalCurso', \n",
    "        'count'  # Cuenta la cantidad de cursos\n",
    "    )\n",
    ").reset_index()\n",
    "\n",
    "# Creamos la columna ExcedeMitadCursosDesaprobados\n",
    "df_cursos_desaprobados['ExcedeMitadCursosDesaprobados'] = df_cursos_desaprobados.apply(\n",
    "    lambda row: 'SI' if (row['CantCursosDesaprobados'] / row['CantCursos']) >= 0.5 else 'NO', axis=1\n",
    ")\n",
    "\n",
    "# Eliminar la columna 'CantNotasDesaprobadasNoParcNoFin' \n",
    "df_cursos_desaprobados.drop(columns=['CantCursosDesaprobados','CantCursos'], inplace=True)\n",
    "\n",
    "# Unir este resultado con el DataFrame anterior\n",
    "df_cant_desaprobado_agrupado = df_cant_desaprobado_agrupado.merge(\n",
    "    df_cursos_desaprobados, \n",
    "    on='IdAlumno', \n",
    "    how='left'\n",
    ")\n",
    "\n",
    "df_cant_desaprobado_agrupado = df_cant_desaprobado_agrupado.merge(\n",
    "    df_notas_2023_2[['IdAlumno', 'ProgramaAlu']].drop_duplicates(),  # Tomar IdAlumno y ProgramaAlu sin duplicados\n",
    "    on='IdAlumno',\n",
    "    how='left'\n",
    ")\n",
    "\n",
    "# Visualizar el DataFrame final\n",
    "print(df_cant_desaprobado_agrupado.head())"
   ]
  },
  {
   "cell_type": "markdown",
   "metadata": {},
   "source": [
    "# CALCULO DE VARIABLES DE PAGO"
   ]
  },
  {
   "cell_type": "code",
   "execution_count": 3,
   "metadata": {},
   "outputs": [
    {
     "name": "stdout",
     "output_type": "stream",
     "text": [
      "    IdAlumno  CantArmadas  CantArmadasRetraso7dias  ExcedePagosAtrasados\n",
      "0  100004070            2                        2                     1\n",
      "1  100008630            5                        4                     1\n",
      "2  100009785            5                        4                     1\n",
      "3  100011191            5                        1                     0\n",
      "4  100012563            5                        2                     0\n"
     ]
    }
   ],
   "source": [
    "df_pagos_2023['FECHA_VENCIMIENTO'] = pd.to_datetime(df_pagos_2023['FECHA_VENCIMIENTO'])\n",
    "df_pagos_2023['FECHA_TRANSACCION'] = pd.to_datetime(df_pagos_2023['FECHA_TRANSACCION'])\n",
    "\n",
    "# Paso 1: Agrupar por IdAlumno y contar la cantidad de pagos (CantArmadas)\n",
    "df_agrupado = df_pagos_2023.groupby('IdAlumno').agg(\n",
    "    CantArmadas=('IdAlumno', 'size')\n",
    ").reset_index()\n",
    "\n",
    "# Paso 2: Calcular CantArmadasRetraso7dias (transacciones con retraso mayor a 7 días)\n",
    "df_pagos_2023['Retraso'] = (df_pagos_2023['FECHA_TRANSACCION'] - df_pagos_2023['FECHA_VENCIMIENTO']).dt.days\n",
    "df_pagos_2023['RetrasoMayor7Dias'] = df_pagos_2023['Retraso'] > 7\n",
    "\n",
    "# Agrupar por IdAlumno y contar las transacciones con retraso mayor a 7 días\n",
    "df_retraso = df_pagos_2023.groupby('IdAlumno').agg(\n",
    "    CantArmadasRetraso7dias=('RetrasoMayor7Dias', 'sum')\n",
    ").reset_index()\n",
    "\n",
    "# Paso 3: Unir ambos DataFrames (df_agrupado y df_retraso)\n",
    "df_resultado_pagos = pd.merge(df_agrupado, df_retraso, on='IdAlumno', how='left')\n",
    "\n",
    "# Paso 4: Crear el nuevo campo con la lógica Si/No\n",
    "df_resultado_pagos['ExcedePagosAtrasados'] = df_resultado_pagos.apply(\n",
    "    lambda row: 1 if row['CantArmadasRetraso7dias'] >= (row['CantArmadas'] / 2) else 0,\n",
    "    axis=1\n",
    ")\n",
    "\n",
    "print(df_resultado_pagos.head())"
   ]
  },
  {
   "cell_type": "markdown",
   "metadata": {},
   "source": [
    "# IDENTIFICO LOS ESTUDIANTES A PREDECIR"
   ]
  },
  {
   "cell_type": "code",
   "execution_count": 4,
   "metadata": {},
   "outputs": [],
   "source": [
    "# Unir todos los periodos anteriores en un solo dataframe\n",
    "df_matriculados_anteriores = pd.concat([df_matriculados_2023_1, df_matriculados_2022_2, df_matriculados_2022_1])"
   ]
  },
  {
   "cell_type": "code",
   "execution_count": 5,
   "metadata": {},
   "outputs": [],
   "source": [
    "df_nuevos_matriculados_2023_2 = df_matriculados_2023_2[~df_matriculados_2023_2['IdAlumno'].isin(df_matriculados_anteriores['IdAlumno'])]"
   ]
  },
  {
   "cell_type": "code",
   "execution_count": 6,
   "metadata": {},
   "outputs": [
    {
     "name": "stdout",
     "output_type": "stream",
     "text": [
      "Empty DataFrame\n",
      "Columns: [CicloLectivoDesCorta, IdAlumno, Anio]\n",
      "Index: []\n"
     ]
    }
   ],
   "source": [
    "# Filtrar el DataFrame para encontrar el registro específico\n",
    "resultado = df_nuevos_matriculados_2023_2[df_nuevos_matriculados_2023_2['IdAlumno'] == 100118394]\n",
    "\n",
    "# Verifica el resultado\n",
    "print(resultado)"
   ]
  },
  {
   "cell_type": "code",
   "execution_count": 7,
   "metadata": {},
   "outputs": [
    {
     "name": "stdout",
     "output_type": "stream",
     "text": [
      "(1205, 3)\n"
     ]
    }
   ],
   "source": [
    "print(df_nuevos_matriculados_2023_2.shape)"
   ]
  },
  {
   "cell_type": "code",
   "execution_count": 8,
   "metadata": {},
   "outputs": [
    {
     "name": "stdout",
     "output_type": "stream",
     "text": [
      "IdAlumno                   0\n",
      "Genero                     0\n",
      "FechaNacimiento            0\n",
      "Distrito                   0\n",
      "Provincia                  0\n",
      "Departamento               0\n",
      "FamiliarResponsable    20211\n",
      "AnioNacimiento             0\n",
      "dtype: int64\n"
     ]
    }
   ],
   "source": [
    "print(df_variables.isnull().sum())"
   ]
  },
  {
   "cell_type": "code",
   "execution_count": 9,
   "metadata": {},
   "outputs": [
    {
     "name": "stdout",
     "output_type": "stream",
     "text": [
      "  CicloLectivoDesCorta   IdAlumno  Anio Genero FechaNacimiento Distrito  \\\n",
      "0               2023-2  100004070  2023    NaN             NaN      NaN   \n",
      "1               2023-2  100008630  2023    NaN             NaN      NaN   \n",
      "2               2023-2  100009785  2023    NaN             NaN      NaN   \n",
      "3               2023-2  100011191  2023    NaN             NaN      NaN   \n",
      "4               2023-2  100012563  2023    NaN             NaN      NaN   \n",
      "\n",
      "  Provincia Departamento FamiliarResponsable  AnioNacimiento  ...  \\\n",
      "0       NaN          NaN                 NaN             NaN  ...   \n",
      "1       NaN          NaN                 NaN             NaN  ...   \n",
      "2       NaN          NaN                 NaN             NaN  ...   \n",
      "3       NaN          NaN                 NaN             NaN  ...   \n",
      "4       NaN          NaN                 NaN             NaN  ...   \n",
      "\n",
      "   CantFinalesDesaprobados  ExcedeNotasDesaprobadasNoParcNoFin  \\\n",
      "0                        0                                  SI   \n",
      "1                        0                                  NO   \n",
      "2                        1                                  NO   \n",
      "3                        6                                  SI   \n",
      "4                        0                                  NO   \n",
      "\n",
      "  ExcedeMitadCursosDesaprobados                   ProgramaAlu  \\\n",
      "0                            NO  Ing. Económica y de Negocios   \n",
      "1                            NO  Ing. Negocios Agroforestales   \n",
      "2                            SI  Arquitectura y Urb Ambiental   \n",
      "3                            NO                 Estomatología   \n",
      "4                            NO               Medicina Humana   \n",
      "\n",
      "                    Colegio TipoColegio CantArmadas  CantArmadasRetraso7dias  \\\n",
      "0     Saco Oliveros - S.J.M        PRIV         2.0                      2.0   \n",
      "1              Trilce Comas        PRIV         5.0                      4.0   \n",
      "2  Colegio Fuera De Cartera        PRIV         5.0                      4.0   \n",
      "3  Colegio Fuera De Cartera        PRIV         5.0                      1.0   \n",
      "4          2da Especialidad        PRIV         5.0                      2.0   \n",
      "\n",
      "   ExcedePagosAtrasados  Desercion  \n",
      "0                   1.0          0  \n",
      "1                   1.0          0  \n",
      "2                   1.0          0  \n",
      "3                   0.0          1  \n",
      "4                   0.0          1  \n",
      "\n",
      "[5 rows x 21 columns]\n"
     ]
    }
   ],
   "source": [
    "#Variables CRM\n",
    "df = pd.merge(df_nuevos_matriculados_2023_2, df_variables, on='IdAlumno', how='left')\n",
    "\n",
    "#Variables Notas\n",
    "df = pd.merge(df, df_cant_desaprobado_agrupado, on='IdAlumno', how='left')\n",
    "\n",
    "#Colegio Procedencia\n",
    "df = pd.merge(df, df_colegio_procedencia, on='IdAlumno', how='left')\n",
    "\n",
    "#Variables Pagos\n",
    "df = pd.merge(df, df_resultado_pagos, on='IdAlumno', how='left')\n",
    "\n",
    "# columna objetivo\n",
    "df['Desercion'] = df['IdAlumno'].isin(df_desertores_2023_2['IdAlumno']).astype(int)\n",
    "\n",
    "print(df.head())"
   ]
  },
  {
   "cell_type": "code",
   "execution_count": 10,
   "metadata": {},
   "outputs": [
    {
     "name": "stdout",
     "output_type": "stream",
     "text": [
      "(1205, 21)\n"
     ]
    }
   ],
   "source": [
    "print(df.shape)"
   ]
  },
  {
   "cell_type": "markdown",
   "metadata": {},
   "source": [
    "### RELLENO LOS QUE NO TIENEN GENERO\n",
    "\n"
   ]
  },
  {
   "cell_type": "code",
   "execution_count": 11,
   "metadata": {},
   "outputs": [
    {
     "name": "stdout",
     "output_type": "stream",
     "text": [
      "CicloLectivoDesCorta                    0\n",
      "IdAlumno                                0\n",
      "Anio                                    0\n",
      "Genero                                  0\n",
      "FechaNacimiento                        90\n",
      "Distrito                               90\n",
      "Provincia                              90\n",
      "Departamento                           90\n",
      "FamiliarResponsable                   742\n",
      "AnioNacimiento                         90\n",
      "CantParcialesDesaprobados               0\n",
      "CantFinalesDesaprobados                 0\n",
      "ExcedeNotasDesaprobadasNoParcNoFin      0\n",
      "ExcedeMitadCursosDesaprobados           0\n",
      "ProgramaAlu                             0\n",
      "Colegio                                 0\n",
      "TipoColegio                             0\n",
      "CantArmadas                            28\n",
      "CantArmadasRetraso7dias                28\n",
      "ExcedePagosAtrasados                   28\n",
      "Desercion                               0\n",
      "dtype: int64\n"
     ]
    }
   ],
   "source": [
    "# Calculamos la cuenta de cada género y de los valores nulos\n",
    "conteo_generos = df['Genero'].value_counts(dropna=False)\n",
    "count_f = conteo_generos.get('F', 0)  # Cantidad de F\n",
    "count_m = conteo_generos.get('M', 0)  # Cantidad de M\n",
    "total_blancos = conteo_generos.get(np.nan, 0)  # Cantidad de valores nulos\n",
    "\n",
    "# Ahora, calculamos la distribución equitativa\n",
    "if total_blancos > 0:\n",
    "    # Proporciones de cada género\n",
    "    proporciones_f = count_f / (count_f + count_m)\n",
    "    proporciones_m = count_m / (count_f + count_m)\n",
    "\n",
    "    # Cálculo de cuántos géneros se asignarán a los valores nulos\n",
    "    asignacion_f = int(total_blancos * proporciones_f)\n",
    "    asignacion_m = total_blancos - asignacion_f  # Lo que queda se asigna a M\n",
    "\n",
    "    # Rellenar los valores nulos en el DataFrame\n",
    "    df.loc[df['Genero'].isna(), 'Genero'] = ['F'] * asignacion_f + ['M'] * asignacion_m\n",
    "\n",
    "\n",
    "print(df.isnull().sum())"
   ]
  },
  {
   "cell_type": "markdown",
   "metadata": {},
   "source": [
    "### RELLENO LOS QUE NO TIENEN FECHA DE NACIMIENTO"
   ]
  },
  {
   "cell_type": "code",
   "execution_count": 12,
   "metadata": {},
   "outputs": [
    {
     "name": "stdout",
     "output_type": "stream",
     "text": [
      "CicloLectivoDesCorta                    0\n",
      "IdAlumno                                0\n",
      "Anio                                    0\n",
      "Genero                                  0\n",
      "FechaNacimiento                         0\n",
      "Distrito                               90\n",
      "Provincia                              90\n",
      "Departamento                           90\n",
      "FamiliarResponsable                   742\n",
      "AnioNacimiento                          0\n",
      "CantParcialesDesaprobados               0\n",
      "CantFinalesDesaprobados                 0\n",
      "ExcedeNotasDesaprobadasNoParcNoFin      0\n",
      "ExcedeMitadCursosDesaprobados           0\n",
      "ProgramaAlu                             0\n",
      "Colegio                                 0\n",
      "TipoColegio                             0\n",
      "CantArmadas                            28\n",
      "CantArmadasRetraso7dias                28\n",
      "ExcedePagosAtrasados                   28\n",
      "Desercion                               0\n",
      "dtype: int64\n"
     ]
    }
   ],
   "source": [
    "# Contar cuántos valores nulos hay en FechaNacimiento\n",
    "n = df['FechaNacimiento'].isnull().sum()\n",
    "\n",
    "# Función para generar fechas aleatorias en el formato 'YYYY-MM-DD'\n",
    "def generar_fecha_aleatoria(n):\n",
    "    fechas = []\n",
    "    for _ in range(n):\n",
    "        anio = np.random.choice([2006, 2007])  # Años para tener 16 o 17 años en 2023\n",
    "        mes = np.random.randint(1, 13)  # Mes de 1 a 12\n",
    "        dia = np.random.randint(1, 29)  # Día de 1 a 28 (para simplificar)\n",
    "        fecha = f\"{anio}-{mes:02d}-{dia:02d}\"  # Formato 'YYYY-MM-DD'\n",
    "        fechas.append(fecha)\n",
    "    return fechas\n",
    "\n",
    "# Generar fechas aleatorias y rellenar los nulos\n",
    "fechas_aleatorias = generar_fecha_aleatoria(n)\n",
    "df.loc[df['FechaNacimiento'].isnull(), 'FechaNacimiento'] = fechas_aleatorias\n",
    "\n",
    "# Obtener el año de nacimiento de los nulos en FechaNacimiento\n",
    "df.loc[df['AnioNacimiento'].isnull(), 'AnioNacimiento'] = df['FechaNacimiento'].str.split('-').str[0].astype(int)\n",
    "\n",
    "#print(df)\n",
    "print(df.isnull().sum())\n"
   ]
  },
  {
   "cell_type": "markdown",
   "metadata": {},
   "source": [
    "### RELLENO LOS QUE NO TIENEN DISTRITO"
   ]
  },
  {
   "cell_type": "code",
   "execution_count": 13,
   "metadata": {},
   "outputs": [
    {
     "name": "stdout",
     "output_type": "stream",
     "text": [
      "CicloLectivoDesCorta                    0\n",
      "IdAlumno                                0\n",
      "Anio                                    0\n",
      "Genero                                  0\n",
      "FechaNacimiento                         0\n",
      "Distrito                                0\n",
      "Provincia                              90\n",
      "Departamento                           90\n",
      "FamiliarResponsable                   742\n",
      "AnioNacimiento                          0\n",
      "CantParcialesDesaprobados               0\n",
      "CantFinalesDesaprobados                 0\n",
      "ExcedeNotasDesaprobadasNoParcNoFin      0\n",
      "ExcedeMitadCursosDesaprobados           0\n",
      "ProgramaAlu                             0\n",
      "Colegio                                 0\n",
      "TipoColegio                             0\n",
      "CantArmadas                            28\n",
      "CantArmadasRetraso7dias                28\n",
      "ExcedePagosAtrasados                   28\n",
      "Desercion                               0\n",
      "dtype: int64\n"
     ]
    }
   ],
   "source": [
    "# Lista de distritos para rellenar\n",
    "distritos = [\"ATE\", \"VILLA EL SALVADOR\", \"COMAS\", \"CHORRILLOS\", \"SAN MARTÍN DE PORRES\"]\n",
    "\n",
    "# Contar cuántos valores nulos hay en el campo 'Distrito'\n",
    "nulos_distrito = df['Distrito'].isnull().sum()\n",
    "\n",
    "# Calcular cuántos registros de cada distrito se necesitan\n",
    "if nulos_distrito > 0:\n",
    "    # Calcular cuántos distritos asignar a cada uno\n",
    "    asignaciones = [nulos_distrito // len(distritos)] * len(distritos)\n",
    "    \n",
    "    # Distribuir los restantes de manera aleatoria entre los distritos\n",
    "    for i in range(nulos_distrito % len(distritos)):\n",
    "        asignaciones[i] += 1\n",
    "\n",
    "    # Crear una lista con los distritos asignados\n",
    "    distritos_asignados = []\n",
    "    for distrito, cantidad in zip(distritos, asignaciones):\n",
    "        distritos_asignados.extend([distrito] * cantidad)\n",
    "\n",
    "    # Mezclar aleatoriamente la lista para distribuir uniformemente\n",
    "    np.random.shuffle(distritos_asignados)\n",
    "\n",
    "    # Rellenar los valores nulos en el DataFrame\n",
    "    df.loc[df['Distrito'].isnull(), 'Distrito'] = distritos_asignados\n",
    "\n",
    "# Mostrar el DataFrame resultante\n",
    "print(df.isnull().sum())"
   ]
  },
  {
   "cell_type": "markdown",
   "metadata": {},
   "source": [
    "### RELLENO LOS QUE NO TIENEN PROVINCIA NI DEPARTAMENTO"
   ]
  },
  {
   "cell_type": "code",
   "execution_count": 14,
   "metadata": {},
   "outputs": [
    {
     "name": "stdout",
     "output_type": "stream",
     "text": [
      "CicloLectivoDesCorta                    0\n",
      "IdAlumno                                0\n",
      "Anio                                    0\n",
      "Genero                                  0\n",
      "FechaNacimiento                         0\n",
      "Distrito                                0\n",
      "Provincia                               0\n",
      "Departamento                            0\n",
      "FamiliarResponsable                   742\n",
      "AnioNacimiento                          0\n",
      "CantParcialesDesaprobados               0\n",
      "CantFinalesDesaprobados                 0\n",
      "ExcedeNotasDesaprobadasNoParcNoFin      0\n",
      "ExcedeMitadCursosDesaprobados           0\n",
      "ProgramaAlu                             0\n",
      "Colegio                                 0\n",
      "TipoColegio                             0\n",
      "CantArmadas                            28\n",
      "CantArmadasRetraso7dias                28\n",
      "ExcedePagosAtrasados                   28\n",
      "Desercion                               0\n",
      "dtype: int64\n"
     ]
    }
   ],
   "source": [
    "df['Provincia'] = df['Provincia'].fillna('LIMA')\n",
    "df['Departamento'] = df['Departamento'].fillna('LIMA')\n",
    "\n",
    "print(df.isnull().sum())"
   ]
  },
  {
   "cell_type": "markdown",
   "metadata": {},
   "source": [
    "### CREO CAMPO EDAD"
   ]
  },
  {
   "cell_type": "code",
   "execution_count": 15,
   "metadata": {},
   "outputs": [
    {
     "name": "stdout",
     "output_type": "stream",
     "text": [
      "CicloLectivoDesCorta                    0\n",
      "IdAlumno                                0\n",
      "Anio                                    0\n",
      "Genero                                  0\n",
      "FechaNacimiento                         0\n",
      "Distrito                                0\n",
      "Provincia                               0\n",
      "Departamento                            0\n",
      "FamiliarResponsable                   742\n",
      "AnioNacimiento                          0\n",
      "CantParcialesDesaprobados               0\n",
      "CantFinalesDesaprobados                 0\n",
      "ExcedeNotasDesaprobadasNoParcNoFin      0\n",
      "ExcedeMitadCursosDesaprobados           0\n",
      "ProgramaAlu                             0\n",
      "Colegio                                 0\n",
      "TipoColegio                             0\n",
      "CantArmadas                            28\n",
      "CantArmadasRetraso7dias                28\n",
      "ExcedePagosAtrasados                   28\n",
      "Desercion                               0\n",
      "Edad                                    0\n",
      "dtype: int64\n"
     ]
    }
   ],
   "source": [
    "df['Edad'] = df['Anio'] - df['AnioNacimiento']\n",
    "print(df.isnull().sum())"
   ]
  },
  {
   "cell_type": "code",
   "execution_count": 16,
   "metadata": {},
   "outputs": [
    {
     "name": "stdout",
     "output_type": "stream",
     "text": [
      "   Edad  GrupoEdad\n",
      "0  17.0  MenosDe18\n",
      "1  16.0  MenosDe18\n",
      "2  16.0  MenosDe18\n",
      "3  17.0  MenosDe18\n",
      "4  16.0  MenosDe18\n"
     ]
    }
   ],
   "source": [
    "# Definir las condiciones y sus correspondientes etiquetas\n",
    "condiciones = [\n",
    "    (df['Edad'] <= 18),\n",
    "    (df['Edad'] > 18) & (df['Edad'] < 25),\n",
    "    (df['Edad'] >= 25)\n",
    "]\n",
    "\n",
    "etiquetas = ['MenosDe18', 'Entre18y25', 'Mayor25']\n",
    "\n",
    "# Crear la nueva columna 'GrupoEdad' con las etiquetas según las condiciones, usando un valor por defecto como ''\n",
    "df['GrupoEdad'] = np.select(condiciones, etiquetas, default='')\n",
    "\n",
    "# Verificar los resultados\n",
    "print(df[['Edad', 'GrupoEdad']].head())"
   ]
  },
  {
   "cell_type": "markdown",
   "metadata": {},
   "source": [
    "### RELLENO EL FAMILIAR RESPONSABLE"
   ]
  },
  {
   "cell_type": "code",
   "execution_count": 17,
   "metadata": {},
   "outputs": [
    {
     "name": "stdout",
     "output_type": "stream",
     "text": [
      "CicloLectivoDesCorta                   0\n",
      "IdAlumno                               0\n",
      "Anio                                   0\n",
      "Genero                                 0\n",
      "FechaNacimiento                        0\n",
      "Distrito                               0\n",
      "Provincia                              0\n",
      "Departamento                           0\n",
      "FamiliarResponsable                    0\n",
      "AnioNacimiento                         0\n",
      "CantParcialesDesaprobados              0\n",
      "CantFinalesDesaprobados                0\n",
      "ExcedeNotasDesaprobadasNoParcNoFin     0\n",
      "ExcedeMitadCursosDesaprobados          0\n",
      "ProgramaAlu                            0\n",
      "Colegio                                0\n",
      "TipoColegio                            0\n",
      "CantArmadas                           28\n",
      "CantArmadasRetraso7dias               28\n",
      "ExcedePagosAtrasados                  28\n",
      "Desercion                              0\n",
      "Edad                                   0\n",
      "GrupoEdad                              0\n",
      "dtype: int64\n"
     ]
    }
   ],
   "source": [
    "# Filas donde FamiliarResponsable es nulo\n",
    "mask = df['FamiliarResponsable'].isnull()\n",
    "\n",
    "# Aplicar la condición solo a esas filas\n",
    "df.loc[mask, 'FamiliarResponsable'] = df.loc[mask, 'Edad'].apply(lambda x: 'Apoderado' if x <= 18 else 'Alumno')\n",
    "\n",
    "print(df.isnull().sum())"
   ]
  },
  {
   "cell_type": "markdown",
   "metadata": {},
   "source": [
    "### Relleno el tipo de colegio de procedencia"
   ]
  },
  {
   "cell_type": "code",
   "execution_count": 18,
   "metadata": {},
   "outputs": [
    {
     "name": "stdout",
     "output_type": "stream",
     "text": [
      "CicloLectivoDesCorta                   0\n",
      "IdAlumno                               0\n",
      "Anio                                   0\n",
      "Genero                                 0\n",
      "FechaNacimiento                        0\n",
      "Distrito                               0\n",
      "Provincia                              0\n",
      "Departamento                           0\n",
      "FamiliarResponsable                    0\n",
      "AnioNacimiento                         0\n",
      "CantParcialesDesaprobados              0\n",
      "CantFinalesDesaprobados                0\n",
      "ExcedeNotasDesaprobadasNoParcNoFin     0\n",
      "ExcedeMitadCursosDesaprobados          0\n",
      "ProgramaAlu                            0\n",
      "Colegio                                0\n",
      "TipoColegio                            1\n",
      "CantArmadas                           28\n",
      "CantArmadasRetraso7dias               28\n",
      "ExcedePagosAtrasados                  28\n",
      "Desercion                              0\n",
      "Edad                                   0\n",
      "GrupoEdad                              0\n",
      "dtype: int64\n"
     ]
    }
   ],
   "source": [
    "df['TipoColegio'] = df_colegio_procedencia['TipoColegio'].replace({'RELG': 'PRIV', 'OTHR': 'PUBL'}).fillna('PUBL')\n",
    "\n",
    "print(df.isnull().sum())"
   ]
  },
  {
   "cell_type": "code",
   "execution_count": 19,
   "metadata": {},
   "outputs": [
    {
     "name": "stdout",
     "output_type": "stream",
     "text": [
      "(1205, 23)\n"
     ]
    }
   ],
   "source": [
    "print(df.shape)\n",
    "df.to_csv('cachimbos.csv')"
   ]
  },
  {
   "cell_type": "code",
   "execution_count": 20,
   "metadata": {},
   "outputs": [],
   "source": [
    "variables_modelo = ['IdAlumno',\n",
    "                    'Edad', \n",
    "                    'Genero', \n",
    "                    'Distrito', \n",
    "                    'Provincia', \n",
    "                    'Departamento', \n",
    "                    'FamiliarResponsable', \n",
    "                    'CantParcialesDesaprobados', \n",
    "                    'CantFinalesDesaprobados',\n",
    "                    'ExcedeNotasDesaprobadasNoParcNoFin',\n",
    "                    'ExcedeMitadCursosDesaprobados',\n",
    "                    'GrupoEdad',\n",
    "                    'ExcedePagosAtrasados',\n",
    "                    'TipoColegio', \n",
    "                    'Desercion']\n",
    "df_modelo = df[variables_modelo]\n",
    "\n",
    "# Separar IdAlumno\n",
    "id_alumno = df_modelo['IdAlumno']\n",
    "\n",
    "# Convertir variables categóricas en variables dummy\n",
    "df_modelo = pd.get_dummies(df_modelo.drop(columns=['IdAlumno']), \n",
    "                            columns=['Genero', \n",
    "                                     'Distrito', \n",
    "                                     'Provincia', \n",
    "                                     'Departamento', \n",
    "                                     'FamiliarResponsable', \n",
    "                                     'CantParcialesDesaprobados', \n",
    "                                     'CantFinalesDesaprobados',\n",
    "                                     'ExcedeNotasDesaprobadasNoParcNoFin', \n",
    "                                     'ExcedeMitadCursosDesaprobados',\n",
    "                                     'GrupoEdad', \n",
    "                                     'ExcedePagosAtrasados', \n",
    "                                     'TipoColegio'], drop_first=True)\n"
   ]
  },
  {
   "cell_type": "markdown",
   "metadata": {},
   "source": [
    "# CREACION DEL MODELO"
   ]
  },
  {
   "cell_type": "code",
   "execution_count": 21,
   "metadata": {},
   "outputs": [],
   "source": [
    "#División de los datos en entrenamiento y prueba\n",
    "from sklearn.model_selection import train_test_split\n",
    "\n",
    "X = df_modelo.drop(columns=['Desercion'])\n",
    "y = df_modelo['Desercion']\n",
    "\n",
    "X_train, X_test, y_train, y_test = train_test_split(X, y, test_size=0.3, random_state=42)"
   ]
  },
  {
   "cell_type": "code",
   "execution_count": 22,
   "metadata": {},
   "outputs": [
    {
     "name": "stderr",
     "output_type": "stream",
     "text": [
      "c:\\Users\\MSII7\\AppData\\Local\\Programs\\Python\\Python312\\Lib\\site-packages\\tqdm\\auto.py:21: TqdmWarning: IProgress not found. Please update jupyter and ipywidgets. See https://ipywidgets.readthedocs.io/en/stable/user_install.html\n",
      "  from .autonotebook import tqdm as notebook_tqdm\n"
     ]
    }
   ],
   "source": [
    "from sklearn.linear_model import LogisticRegression\n",
    "from sklearn.ensemble import RandomForestClassifier\n",
    "from sklearn.svm import SVC\n",
    "from sklearn.neighbors import KNeighborsClassifier\n",
    "from sklearn.metrics import accuracy_score, roc_auc_score, confusion_matrix,f1_score, precision_score, recall_score\n",
    "import xgboost as xgb\n",
    "from sklearn.model_selection import GridSearchCV\n",
    "import shap\n",
    "\n",
    "# Diccionario que guarda las métricas\n",
    "metricas_dict = {\n",
    "    \"Modelo\": [],\n",
    "    \"Tipo_Data\": [],\n",
    "    \"Exactitud\": [],\n",
    "    \"AUC\": [],\n",
    "    \"F1-Score\": [],\n",
    "    \"Precisión\": [],\n",
    "    \"Recall\": [],\n",
    "    \"Puntuación\": []\n",
    "}\n",
    "\n",
    "predicciones_dict = {}\n",
    "modelos_dict = {}  # Diccionario para guardar los modelos entrenados\n",
    "shap_dict = {}\n",
    "\n",
    "# Función para calcular métricas\n",
    "def calcular_metricas(model,flg_grid_search, X_train, y_train, X_test, y_test, nombre_modelo):\n",
    "\n",
    "    if flg_grid_search == 0: #Si no es grid search yo lo entreno\n",
    "        # Entrenar el modelo con el conjunto de entrenamiento\n",
    "        model.fit(X_train, y_train)\n",
    "\n",
    "    # Hacer predicciones en el conjunto de prueba\n",
    "    y_pred = model.predict(X_test)\n",
    "\n",
    "    # Hacer predicciones en todo el conjunto de datos\n",
    "    y_pred_completo = model.predict(X)\n",
    "\n",
    "    accuracy = accuracy_score(y_test, y_pred)\n",
    "    auc = roc_auc_score(y_test, model.predict_proba(X_test)[:, 1])\n",
    "    f1 = f1_score(y_test, y_pred)\n",
    "    precision = precision_score(y_test, y_pred, zero_division=0)\n",
    "    recall = recall_score(y_test, y_pred)\n",
    "\n",
    "\n",
    "    puntuacion = (0.3 * accuracy) + (0.1 * precision) + (0.3 * recall) + (0.2 * f1) + (0.4 * auc)\n",
    "    \n",
    "    metricas_dict[\"Modelo\"].append(nombre_modelo)\n",
    "    metricas_dict[\"Tipo_Data\"].append(\"Data Original\")\n",
    "    metricas_dict[\"Exactitud\"].append(accuracy)\n",
    "    metricas_dict[\"AUC\"].append(auc)\n",
    "    metricas_dict[\"F1-Score\"].append(f1)\n",
    "    metricas_dict[\"Precisión\"].append(precision)\n",
    "    metricas_dict[\"Recall\"].append(recall)\n",
    "    metricas_dict[\"Puntuación\"].append((puntuacion))\n",
    "\n",
    "    # Almacenar las predicciones en el diccionario\n",
    "    predicciones_dict[nombre_modelo] = y_pred_completo\n",
    "\n",
    "     # Guardar el modelo entrenado en el diccionario\n",
    "    modelos_dict[nombre_modelo] = model  # Aquí guardamos el modelo\n",
    "    \n"
   ]
  },
  {
   "cell_type": "markdown",
   "metadata": {},
   "source": [
    "## MODELOS SIN BALANCEO"
   ]
  },
  {
   "cell_type": "code",
   "execution_count": 23,
   "metadata": {},
   "outputs": [],
   "source": [
    "modelos = [\n",
    "    (\"Regresión Logística\", LogisticRegression(max_iter=1000)),\n",
    "    (\"Random Forest\", RandomForestClassifier(random_state=42)),\n",
    "    (\"XGBoost\", xgb.XGBClassifier(eval_metric='logloss', random_state=42)),\n",
    "    (\"SVM\", SVC(probability=True, random_state=42)),\n",
    "    (\"KNN\",KNeighborsClassifier(n_neighbors=5))\n",
    "]"
   ]
  },
  {
   "cell_type": "code",
   "execution_count": 24,
   "metadata": {},
   "outputs": [],
   "source": [
    "# Entrenar y evaluar los modelos\n",
    "for nombre_modelo, modelo in modelos:\n",
    "    calcular_metricas(modelo,0,X_train,y_train, X_test, y_test, nombre_modelo)"
   ]
  },
  {
   "cell_type": "markdown",
   "metadata": {},
   "source": [
    "## MODELOS CON BALANCEO"
   ]
  },
  {
   "cell_type": "code",
   "execution_count": 25,
   "metadata": {},
   "outputs": [],
   "source": [
    "from imblearn.over_sampling import SMOTE\n",
    "\n",
    "smote = SMOTE(random_state=42)\n",
    "X_resampled, y_resampled = smote.fit_resample(X_train, y_train)\n",
    "\n",
    "# Reentrenar modelos con datos balanceados\n",
    "for nombre_modelo, modelo in modelos:\n",
    "    calcular_metricas(modelo,0,X_resampled, y_resampled, X_test, y_test, f\"{nombre_modelo} (SMOTE)\")"
   ]
  },
  {
   "cell_type": "markdown",
   "metadata": {},
   "source": [
    "## MODELOS CON BALANCEO Y AJUSTE DE HIPERPARAMETROS"
   ]
  },
  {
   "cell_type": "code",
   "execution_count": 26,
   "metadata": {},
   "outputs": [],
   "source": [
    "from sklearn.model_selection import GridSearchCV\n",
    "\n",
    "# Definir los hiperparámetros para cada modelo\n",
    "param_grid_lr = {\n",
    "    'C': [0.01, 0.1, 1, 10],\n",
    "    'solver': ['lbfgs', 'liblinear']\n",
    "}\n",
    "\n",
    "param_grid_rf = {\n",
    "    'n_estimators': [100, 200, 300],\n",
    "    'max_depth': [5, 10, 20],\n",
    "    'min_samples_split': [2, 5, 10]\n",
    "}\n",
    "\n",
    "param_grid_svm = {\n",
    "    'C': [0.1, 1, 10],\n",
    "    'kernel': ['linear', 'rbf'],\n",
    "    'gamma': ['scale', 'auto']\n",
    "}\n",
    "\n",
    "param_grid_knn = {\n",
    "    'n_neighbors': [3, 5, 7],\n",
    "    'weights': ['uniform', 'distance']\n",
    "}\n",
    "\n",
    "param_grid_xgb = {\n",
    "    'n_estimators': [100, 200, 300],\n",
    "    'learning_rate': [0.01, 0.1, 0.2],\n",
    "    'max_depth': [3, 5, 7]\n",
    "}"
   ]
  },
  {
   "cell_type": "code",
   "execution_count": 27,
   "metadata": {},
   "outputs": [],
   "source": [
    "# Diccionario con modelos y sus respectivos grids\n",
    "modelos_param_grids = [\n",
    "    (\"Regresión Logística\", LogisticRegression(max_iter=1000), param_grid_lr),\n",
    "    (\"Random Forest\", RandomForestClassifier(random_state=42), param_grid_rf),\n",
    "    (\"XGBoost\", xgb.XGBClassifier(eval_metric='logloss', random_state=42), param_grid_xgb),\n",
    "    (\"SVM\", SVC(probability=True, random_state=42), param_grid_svm),\n",
    "    (\"KNN\", KNeighborsClassifier(), param_grid_knn)\n",
    "]"
   ]
  },
  {
   "cell_type": "code",
   "execution_count": 28,
   "metadata": {},
   "outputs": [
    {
     "name": "stdout",
     "output_type": "stream",
     "text": [
      "Mejores parámetros para Regresión Logística: {'C': 10, 'solver': 'lbfgs'}\n",
      "Mejores parámetros para Random Forest: {'max_depth': 20, 'min_samples_split': 2, 'n_estimators': 300}\n",
      "Mejores parámetros para XGBoost: {'learning_rate': 0.1, 'max_depth': 7, 'n_estimators': 200}\n",
      "Mejores parámetros para SVM: {'C': 1, 'gamma': 'scale', 'kernel': 'linear'}\n",
      "Mejores parámetros para KNN: {'n_neighbors': 5, 'weights': 'distance'}\n"
     ]
    }
   ],
   "source": [
    "# Realizamos la búsqueda de hiperparámetros\n",
    "for nombre_modelo, modelo, param_grid in modelos_param_grids:\n",
    "    grid_search = GridSearchCV(estimator=modelo, param_grid=param_grid, scoring='roc_auc', cv=5, n_jobs=-1)\n",
    "    grid_search.fit(X_resampled, y_resampled)\n",
    "\n",
    "    \n",
    "    # Entrenamos con los mejores hiperparámetros\n",
    "    best_model = grid_search.best_estimator_\n",
    "    print(f\"Mejores parámetros para {nombre_modelo}: {grid_search.best_params_}\")\n",
    "    \n",
    "    # Calculamos métricas con los mejores hiperparámetros\n",
    "    calcular_metricas(best_model,1,X_resampled,y_resampled, X_test, y_test, f\"{nombre_modelo} (Optimizado y con SMOTE)\")"
   ]
  },
  {
   "cell_type": "markdown",
   "metadata": {},
   "source": [
    "# EXPORTADO DE METRICAS"
   ]
  },
  {
   "cell_type": "code",
   "execution_count": 29,
   "metadata": {},
   "outputs": [
    {
     "name": "stdout",
     "output_type": "stream",
     "text": [
      "                                          Modelo      Tipo_Data  Exactitud  \\\n",
      "13                  SVM (Optimizado y con SMOTE)  Data Original   0.812155   \n",
      "5                    Regresión Logística (SMOTE)  Data Original   0.784530   \n",
      "10  Regresión Logística (Optimizado y con SMOTE)  Data Original   0.792818   \n",
      "8                                    SVM (SMOTE)  Data Original   0.759669   \n",
      "11        Random Forest (Optimizado y con SMOTE)  Data Original   0.762431   \n",
      "2                                        XGBoost  Data Original   0.762431   \n",
      "0                            Regresión Logística  Data Original   0.765193   \n",
      "12              XGBoost (Optimizado y con SMOTE)  Data Original   0.740331   \n",
      "6                          Random Forest (SMOTE)  Data Original   0.751381   \n",
      "1                                  Random Forest  Data Original   0.762431   \n",
      "7                                XGBoost (SMOTE)  Data Original   0.729282   \n",
      "9                                    KNN (SMOTE)  Data Original   0.726519   \n",
      "14                  KNN (Optimizado y con SMOTE)  Data Original   0.723757   \n",
      "4                                            KNN  Data Original   0.740331   \n",
      "3                                            SVM  Data Original   0.662983   \n",
      "\n",
      "         AUC  F1-Score  Precisión    Recall  Puntuación  \n",
      "13  0.816501  0.693694   0.762376  0.636364    0.976132  \n",
      "5   0.813861  0.666667   0.690265  0.644628    0.956652  \n",
      "10  0.811358  0.669604   0.716981  0.628099    0.956437  \n",
      "8   0.791640  0.626609   0.651786  0.603306    0.916049  \n",
      "11  0.810706  0.601852   0.684211  0.537190    0.902960  \n",
      "2   0.774973  0.612613   0.673267  0.561983    0.897163  \n",
      "0   0.808134  0.589372   0.709302  0.504132    0.892856  \n",
      "12  0.780357  0.598291   0.619469  0.578512    0.889401  \n",
      "6   0.796372  0.590909   0.656566  0.537190    0.888959  \n",
      "1   0.795806  0.586538   0.701149  0.504132    0.885714  \n",
      "7   0.778403  0.584746   0.600000  0.570248    0.878169  \n",
      "9   0.728233  0.539535   0.617021  0.479339    0.822660  \n",
      "14  0.719883  0.532710   0.612903  0.471074    0.814235  \n",
      "4   0.728730  0.520408   0.680000  0.421488    0.812119  \n",
      "3   0.787559  0.061538   0.444444  0.033058    0.580588  \n"
     ]
    }
   ],
   "source": [
    "df_metricas = pd.DataFrame(metricas_dict)\n",
    "\n",
    "df_metricas = df_metricas.sort_values(by=\"Puntuación\", ascending=False)\n",
    "df_metricas.to_csv(os.path.join(ruta_output,'Modelo_Desercion_Metricas.csv'))\n",
    "print(df_metricas)"
   ]
  },
  {
   "cell_type": "code",
   "execution_count": 30,
   "metadata": {},
   "outputs": [
    {
     "name": "stdout",
     "output_type": "stream",
     "text": [
      "El modelo ganador es: SVM (Optimizado y con SMOTE)\n",
      "Modelo        SVM (Optimizado y con SMOTE)\n",
      "Tipo_Data                    Data Original\n",
      "Exactitud                         0.812155\n",
      "AUC                               0.816501\n",
      "F1-Score                          0.693694\n",
      "Precisión                         0.762376\n",
      "Recall                            0.636364\n",
      "Puntuación                        0.976132\n",
      "Name: 13, dtype: object\n"
     ]
    }
   ],
   "source": [
    "# Seleccionar el modelo ganador basado en la puntuación más alta\n",
    "modelo_ganador_idx = df_metricas['Puntuación'].idxmax()\n",
    "modelo_ganador = df_metricas.loc[modelo_ganador_idx]\n",
    "nombre_modelo_ganador = modelo_ganador[\"Modelo\"]\n",
    "\n",
    "print(f\"El modelo ganador es: {nombre_modelo_ganador}\")\n",
    "print(modelo_ganador)"
   ]
  },
  {
   "cell_type": "code",
   "execution_count": 31,
   "metadata": {},
   "outputs": [
    {
     "name": "stdout",
     "output_type": "stream",
     "text": [
      "1205\n"
     ]
    }
   ],
   "source": [
    "print(len(predicciones_dict[nombre_modelo_ganador]))"
   ]
  },
  {
   "cell_type": "code",
   "execution_count": 96,
   "metadata": {},
   "outputs": [
    {
     "name": "stdout",
     "output_type": "stream",
     "text": [
      "(1205, 16)\n",
      "        IdAlumno  Prediccion  Edad Genero           Distrito Provincia  \\\n",
      "0      100004070           0  17.0      F  VILLA EL SALVADOR      LIMA   \n",
      "1      100008630           0  16.0      F                ATE      LIMA   \n",
      "2      100009785           1  16.0      F         CHORRILLOS      LIMA   \n",
      "3      100011191           1  17.0      F              COMAS      LIMA   \n",
      "4      100012563           0  16.0      F              COMAS      LIMA   \n",
      "...          ...         ...   ...    ...                ...       ...   \n",
      "1200   180000324           1  17.0      M         CHORRILLOS      LIMA   \n",
      "1201   180000558           1  17.0      M  VILLA EL SALVADOR      LIMA   \n",
      "1202   180000790           0  17.0      M  VILLA EL SALVADOR      LIMA   \n",
      "1203  4200710473           0  17.0      M         CHORRILLOS      LIMA   \n",
      "1204  4200810288           1  17.0      M              COMAS      LIMA   \n",
      "\n",
      "     Departamento FamiliarResponsable  CantParcialesDesaprobados  \\\n",
      "0            LIMA           Apoderado                          0   \n",
      "1            LIMA           Apoderado                          0   \n",
      "2            LIMA           Apoderado                          2   \n",
      "3            LIMA           Apoderado                          6   \n",
      "4            LIMA           Apoderado                          0   \n",
      "...           ...                 ...                        ...   \n",
      "1200         LIMA           Apoderado                          2   \n",
      "1201         LIMA           Apoderado                          0   \n",
      "1202         LIMA           Apoderado                          0   \n",
      "1203         LIMA           Apoderado                          0   \n",
      "1204         LIMA           Apoderado                          0   \n",
      "\n",
      "      CantFinalesDesaprobados ExcedeNotasDesaprobadasNoParcNoFin  \\\n",
      "0                           0                                 SI   \n",
      "1                           0                                 NO   \n",
      "2                           1                                 NO   \n",
      "3                           6                                 SI   \n",
      "4                           0                                 NO   \n",
      "...                       ...                                ...   \n",
      "1200                        1                                 NO   \n",
      "1201                        6                                 NO   \n",
      "1202                        0                                 NO   \n",
      "1203                        0                                 NO   \n",
      "1204                        1                                 NO   \n",
      "\n",
      "     ExcedeMitadCursosDesaprobados  GrupoEdad  ExcedePagosAtrasados  \\\n",
      "0                               NO  MenosDe18                   1.0   \n",
      "1                               NO  MenosDe18                   1.0   \n",
      "2                               SI  MenosDe18                   1.0   \n",
      "3                               NO  MenosDe18                   0.0   \n",
      "4                               NO  MenosDe18                   0.0   \n",
      "...                            ...        ...                   ...   \n",
      "1200                            SI  MenosDe18                   1.0   \n",
      "1201                            NO  MenosDe18                   0.0   \n",
      "1202                            NO  MenosDe18                   1.0   \n",
      "1203                            NO  MenosDe18                   1.0   \n",
      "1204                            NO  MenosDe18                   0.0   \n",
      "\n",
      "     TipoColegio  Desercion  \n",
      "0           PUBL          0  \n",
      "1           PRIV          0  \n",
      "2           PRIV          0  \n",
      "3           PUBL          1  \n",
      "4           PRIV          1  \n",
      "...          ...        ...  \n",
      "1200        PRIV          1  \n",
      "1201        PRIV          0  \n",
      "1202        PRIV          0  \n",
      "1203        PRIV          1  \n",
      "1204        PRIV          1  \n",
      "\n",
      "[1205 rows x 16 columns]\n"
     ]
    }
   ],
   "source": [
    "# Crear DataFrame con IdAlumno y las predicciones\n",
    "predicciones_df = pd.DataFrame({\n",
    "    'IdAlumno': id_alumno.loc[X.index],  # Usar índices de X\n",
    "    'Prediccion': predicciones_dict[nombre_modelo_ganador]\n",
    "})\n",
    "\n",
    "dataset_base = df[variables_modelo]\n",
    "\n",
    "resultado_final = pd.merge(predicciones_df,dataset_base,on='IdAlumno',how='left') \n",
    "\n",
    "print(resultado_final.shape)\n",
    "print(resultado_final)\n",
    "\n",
    "resultado_final.to_csv(os.path.join(ruta_output,'Prediccion.csv'), index=False)"
   ]
  },
  {
   "cell_type": "code",
   "execution_count": 35,
   "metadata": {},
   "outputs": [
    {
     "name": "stdout",
     "output_type": "stream",
     "text": [
      "SVC(C=1, kernel='linear', probability=True, random_state=42)\n"
     ]
    }
   ],
   "source": [
    "obj_modelo_ganador = modelos_dict[nombre_modelo_ganador]\n",
    "print(obj_modelo_ganador)"
   ]
  },
  {
   "cell_type": "code",
   "execution_count": 57,
   "metadata": {},
   "outputs": [
    {
     "name": "stdout",
     "output_type": "stream",
     "text": [
      "<class 'pandas.core.series.Series'>\n"
     ]
    }
   ],
   "source": [
    "# Obtener coeficientes\n",
    "coeficientes = obj_modelo_ganador.coef_[0]  # Para SVM lineales\n",
    "importancia_features = pd.Series(coeficientes, index=X_train.columns)\n",
    "importancia_features.sort_values(ascending=False, inplace=True)\n",
    "\n",
    "\n",
    "# Mostrar las características más importantes\n",
    "print(type(importancia_features))"
   ]
  },
  {
   "cell_type": "code",
   "execution_count": 79,
   "metadata": {},
   "outputs": [
    {
     "name": "stdout",
     "output_type": "stream",
     "text": [
      "1205\n"
     ]
    }
   ],
   "source": [
    "# Crear el explainer para el modelo SVM\n",
    "explainer = shap.LinearExplainer(obj_modelo_ganador, X)\n",
    "\n",
    "# Calcular los valores SHAP\n",
    "shap_values = explainer.shap_values(X)\n",
    "\n",
    "print(len(shap_values))\n"
   ]
  },
  {
   "cell_type": "code",
   "execution_count": 81,
   "metadata": {},
   "outputs": [],
   "source": [
    "# Convertir los valores SHAP en un DataFrame\n",
    "shap_df = pd.DataFrame(shap_values, columns=X.columns)"
   ]
  },
  {
   "cell_type": "code",
   "execution_count": 85,
   "metadata": {},
   "outputs": [],
   "source": [
    "# Agregar la columna 'IdAlumno'\n",
    "shap_df['IdAlumno'] = id_alumno.values"
   ]
  },
  {
   "cell_type": "code",
   "execution_count": 97,
   "metadata": {},
   "outputs": [
    {
     "name": "stdout",
     "output_type": "stream",
     "text": [
      "          Edad  Genero_M Distrito_ANDAHUAYLAS Distrito_ASIA Distrito_ATE  \\\n",
      "0    -0.191657 -0.055568                  0.0           0.0    -0.108473   \n",
      "1    -0.274625 -0.055568                  0.0           0.0     1.247441   \n",
      "2    -0.274625 -0.055568                  0.0           0.0    -0.108473   \n",
      "3    -0.191657 -0.055568                  0.0           0.0    -0.108473   \n",
      "4    -0.274625 -0.055568                  0.0           0.0    -0.108473   \n",
      "...        ...       ...                  ...           ...          ...   \n",
      "1200 -0.191657  0.103198                  0.0           0.0    -0.108473   \n",
      "1201 -0.191657  0.103198                  0.0           0.0    -0.108473   \n",
      "1202 -0.191657  0.103198                  0.0           0.0    -0.108473   \n",
      "1203 -0.191657  0.103198                  0.0           0.0    -0.108473   \n",
      "1204 -0.191657  0.103198                  0.0           0.0    -0.108473   \n",
      "\n",
      "     Distrito_AUCALLAMA Distrito_AYACUCHO Distrito_BAGUA GRANDE  \\\n",
      "0              0.001121          0.000654                   0.0   \n",
      "1              0.001121          0.000654                   0.0   \n",
      "2              0.001121          0.000654                   0.0   \n",
      "3              0.001121          0.000654                   0.0   \n",
      "4              0.001121          0.000654                   0.0   \n",
      "...                 ...               ...                   ...   \n",
      "1200           0.001121          0.000654                   0.0   \n",
      "1201           0.001121          0.000654                   0.0   \n",
      "1202           0.001121          0.000654                   0.0   \n",
      "1203           0.001121          0.000654                   0.0   \n",
      "1204           0.001121          0.000654                   0.0   \n",
      "\n",
      "     Distrito_BARRANCA Distrito_BARRANCO  ... CantFinalesDesaprobados_20  \\\n",
      "0                  0.0               0.0  ...                        0.0   \n",
      "1                  0.0               0.0  ...                        0.0   \n",
      "2                  0.0               0.0  ...                        0.0   \n",
      "3                  0.0               0.0  ...                        0.0   \n",
      "4                  0.0               0.0  ...                        0.0   \n",
      "...                ...               ...  ...                        ...   \n",
      "1200               0.0               0.0  ...                        0.0   \n",
      "1201               0.0               0.0  ...                        0.0   \n",
      "1202               0.0               0.0  ...                        0.0   \n",
      "1203               0.0               0.0  ...                        0.0   \n",
      "1204               0.0               0.0  ...                        0.0   \n",
      "\n",
      "     CantFinalesDesaprobados_21 CantFinalesDesaprobados_28  \\\n",
      "0                     -0.038314                        0.0   \n",
      "1                     -0.038314                        0.0   \n",
      "2                     -0.038314                        0.0   \n",
      "3                     -0.038314                        0.0   \n",
      "4                     -0.038314                        0.0   \n",
      "...                         ...                        ...   \n",
      "1200                  -0.038314                        0.0   \n",
      "1201                  -0.038314                        0.0   \n",
      "1202                  -0.038314                        0.0   \n",
      "1203                  -0.038314                        0.0   \n",
      "1204                  -0.038314                        0.0   \n",
      "\n",
      "     ExcedeNotasDesaprobadasNoParcNoFin_SI ExcedeMitadCursosDesaprobados_SI  \\\n",
      "0                                 0.000029                        -0.163151   \n",
      "1                                -0.000026                        -0.163151   \n",
      "2                                -0.000026                         0.856543   \n",
      "3                                 0.000029                        -0.163151   \n",
      "4                                -0.000026                        -0.163151   \n",
      "...                                    ...                              ...   \n",
      "1200                             -0.000026                         0.856543   \n",
      "1201                             -0.000026                        -0.163151   \n",
      "1202                             -0.000026                        -0.163151   \n",
      "1203                             -0.000026                        -0.163151   \n",
      "1204                             -0.000026                        -0.163151   \n",
      "\n",
      "     GrupoEdad_Mayor25 GrupoEdad_MenosDe18 ExcedePagosAtrasados_1.0  \\\n",
      "0             0.021839            0.045395                 0.153366   \n",
      "1             0.021839            0.045395                 0.153366   \n",
      "2             0.021839            0.045395                 0.153366   \n",
      "3             0.021839            0.045395                -0.048431   \n",
      "4             0.021839            0.045395                -0.048431   \n",
      "...                ...                 ...                      ...   \n",
      "1200          0.021839            0.045395                 0.153366   \n",
      "1201          0.021839            0.045395                -0.048431   \n",
      "1202          0.021839            0.045395                 0.153366   \n",
      "1203          0.021839            0.045395                 0.153366   \n",
      "1204          0.021839            0.045395                -0.048431   \n",
      "\n",
      "     TipoColegio_PUBL    IdAlumno  \n",
      "0            0.045807   100004070  \n",
      "1           -0.044011   100008630  \n",
      "2           -0.044011   100009785  \n",
      "3            0.045807   100011191  \n",
      "4           -0.044011   100012563  \n",
      "...               ...         ...  \n",
      "1200        -0.044011   180000324  \n",
      "1201        -0.044011   180000558  \n",
      "1202        -0.044011   180000790  \n",
      "1203        -0.044011  4200710473  \n",
      "1204        -0.044011  4200810288  \n",
      "\n",
      "[1205 rows x 209 columns]\n"
     ]
    }
   ],
   "source": [
    "print(shap_df)\n",
    "shap_df.to_csv(os.path.join(ruta_output,'Impacto_Variables.csv'),index=False)"
   ]
  },
  {
   "cell_type": "code",
   "execution_count": 94,
   "metadata": {},
   "outputs": [
    {
     "data": {
      "text/html": [
       "<div>\n",
       "<style scoped>\n",
       "    .dataframe tbody tr th:only-of-type {\n",
       "        vertical-align: middle;\n",
       "    }\n",
       "\n",
       "    .dataframe tbody tr th {\n",
       "        vertical-align: top;\n",
       "    }\n",
       "\n",
       "    .dataframe thead th {\n",
       "        text-align: right;\n",
       "    }\n",
       "</style>\n",
       "<table border=\"1\" class=\"dataframe\">\n",
       "  <thead>\n",
       "    <tr style=\"text-align: right;\">\n",
       "      <th></th>\n",
       "      <th>Edad</th>\n",
       "      <th>Genero_M</th>\n",
       "      <th>Distrito_ANDAHUAYLAS</th>\n",
       "      <th>Distrito_ASIA</th>\n",
       "      <th>Distrito_ATE</th>\n",
       "      <th>Distrito_AUCALLAMA</th>\n",
       "      <th>Distrito_AYACUCHO</th>\n",
       "      <th>Distrito_BAGUA GRANDE</th>\n",
       "      <th>Distrito_BARRANCA</th>\n",
       "      <th>Distrito_BARRANCO</th>\n",
       "      <th>...</th>\n",
       "      <th>CantFinalesDesaprobados_20</th>\n",
       "      <th>CantFinalesDesaprobados_21</th>\n",
       "      <th>CantFinalesDesaprobados_28</th>\n",
       "      <th>ExcedeNotasDesaprobadasNoParcNoFin_SI</th>\n",
       "      <th>ExcedeMitadCursosDesaprobados_SI</th>\n",
       "      <th>GrupoEdad_Mayor25</th>\n",
       "      <th>GrupoEdad_MenosDe18</th>\n",
       "      <th>ExcedePagosAtrasados_1.0</th>\n",
       "      <th>TipoColegio_PUBL</th>\n",
       "      <th>IdAlumno</th>\n",
       "    </tr>\n",
       "  </thead>\n",
       "  <tbody>\n",
       "    <tr>\n",
       "      <th>6</th>\n",
       "      <td>-0.274625</td>\n",
       "      <td>-0.055568</td>\n",
       "      <td>0.0</td>\n",
       "      <td>0.0</td>\n",
       "      <td>-0.108473</td>\n",
       "      <td>0.001121</td>\n",
       "      <td>0.000654</td>\n",
       "      <td>0.0</td>\n",
       "      <td>0.0</td>\n",
       "      <td>0.0</td>\n",
       "      <td>...</td>\n",
       "      <td>0.0</td>\n",
       "      <td>-0.038314</td>\n",
       "      <td>0.0</td>\n",
       "      <td>-0.000026</td>\n",
       "      <td>-0.163151</td>\n",
       "      <td>0.021839</td>\n",
       "      <td>0.045395</td>\n",
       "      <td>-0.048431</td>\n",
       "      <td>-0.044011</td>\n",
       "      <td>100014115</td>\n",
       "    </tr>\n",
       "  </tbody>\n",
       "</table>\n",
       "<p>1 rows × 209 columns</p>\n",
       "</div>"
      ],
      "text/plain": [
       "       Edad  Genero_M Distrito_ANDAHUAYLAS Distrito_ASIA Distrito_ATE  \\\n",
       "6 -0.274625 -0.055568                  0.0           0.0    -0.108473   \n",
       "\n",
       "  Distrito_AUCALLAMA Distrito_AYACUCHO Distrito_BAGUA GRANDE  \\\n",
       "6           0.001121          0.000654                   0.0   \n",
       "\n",
       "  Distrito_BARRANCA Distrito_BARRANCO  ... CantFinalesDesaprobados_20  \\\n",
       "6               0.0               0.0  ...                        0.0   \n",
       "\n",
       "  CantFinalesDesaprobados_21 CantFinalesDesaprobados_28  \\\n",
       "6                  -0.038314                        0.0   \n",
       "\n",
       "  ExcedeNotasDesaprobadasNoParcNoFin_SI ExcedeMitadCursosDesaprobados_SI  \\\n",
       "6                             -0.000026                        -0.163151   \n",
       "\n",
       "  GrupoEdad_Mayor25 GrupoEdad_MenosDe18 ExcedePagosAtrasados_1.0  \\\n",
       "6          0.021839            0.045395                -0.048431   \n",
       "\n",
       "  TipoColegio_PUBL   IdAlumno  \n",
       "6        -0.044011  100014115  \n",
       "\n",
       "[1 rows x 209 columns]"
      ]
     },
     "metadata": {},
     "output_type": "display_data"
    },
    {
     "name": "stdout",
     "output_type": "stream",
     "text": [
      "None\n"
     ]
    }
   ],
   "source": [
    "# Filtrar el DataFrame para el IdAlumno específico\n",
    "id_alumno_especifico = 100014115\n",
    "resultado_filtrado = shap_df.loc[shap_df['IdAlumno'] == id_alumno_especifico]\n",
    "\n",
    "# Mostrar el resultado filtrado\n",
    "#print(resultado_filtrado)\n",
    "print(display(resultado_filtrado))\n"
   ]
  },
  {
   "cell_type": "code",
   "execution_count": null,
   "metadata": {},
   "outputs": [],
   "source": []
  }
 ],
 "metadata": {
  "kernelspec": {
   "display_name": "Python 3",
   "language": "python",
   "name": "python3"
  },
  "language_info": {
   "codemirror_mode": {
    "name": "ipython",
    "version": 3
   },
   "file_extension": ".py",
   "mimetype": "text/x-python",
   "name": "python",
   "nbconvert_exporter": "python",
   "pygments_lexer": "ipython3",
   "version": "3.12.0"
  }
 },
 "nbformat": 4,
 "nbformat_minor": 2
}
