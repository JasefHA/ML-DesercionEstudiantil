{
 "cells": [
  {
   "cell_type": "code",
   "execution_count": 1,
   "metadata": {},
   "outputs": [
    {
     "name": "stdout",
     "output_type": "stream",
     "text": [
      "['IdInst', 'IdGrado', 'ProgramaAlu', 'IdCicloLectivo', 'CicloLectivo', 'CicloLectivoDesCorta', 'IdAlumno', 'Alumno', 'IdCurso', 'Curso', 'ProgramaCu', 'Actividad', 'Peso', 'NotaActiv', 'NroClase', 'IndSuperior', 'FILA', 'CUM_GPA']\n"
     ]
    }
   ],
   "source": [
    "import pandas as pd\n",
    "import os\n",
    "\n",
    "ruta = r\"C:\\Users\\MSII7\\Documents\\Jasef\\Desercion\\sources\"\n",
    "\n",
    "base_2022_1 = \"DATA_DETALLE_NOTAS-2022-1.csv\"\n",
    "base_2022_2 = \"DATA_DETALLE_NOTAS-2022-2.csv\"\n",
    "base_2023_1 = \"DATA_DETALLE_NOTAS-2023-1.csv\"\n",
    "base_2023_2 = \"DATA_DETALLE_NOTAS-2023-2.csv\"\n",
    "base_2024_1 = \"DATA_DETALLE_NOTAS-2024-1.csv\"\n",
    "\n",
    "\n",
    "ruta_base_2022_1 = os.path.join(ruta,base_2022_1)\n",
    "ruta_base_2022_2 = os.path.join(ruta,base_2022_2)\n",
    "ruta_base_2023_1 = os.path.join(ruta,base_2023_1)\n",
    "ruta_base_2023_2 = os.path.join(ruta,base_2023_2)\n",
    "ruta_base_2024_1 = os.path.join(ruta,base_2024_1)\n",
    "\n",
    "df_matriculados_2022_1 = pd.read_csv(ruta_base_2022_1)\n",
    "df_matriculados_2022_2 = pd.read_csv(ruta_base_2022_2)\n",
    "df_matriculados_2023_1 = pd.read_csv(ruta_base_2023_1)\n",
    "df_matriculados_2023_2 = pd.read_csv(ruta_base_2023_2)\n",
    "df_matriculados_2024_1 = pd.read_csv(ruta_base_2024_1)\n",
    "\n",
    "print(df_matriculados_2022_1.columns.values.tolist())"
   ]
  },
  {
   "cell_type": "code",
   "execution_count": 2,
   "metadata": {},
   "outputs": [],
   "source": [
    "#Obtengo los estudiantes de forma unica y elimino campo cantidad que no se usará\n",
    "df_matriculados_2022_1_agrupado = df_matriculados_2022_1.groupby(['CicloLectivoDesCorta','IdAlumno']).size().reset_index(name='Cantidad')\n",
    "df_matriculados_2022_1_agrupado = df_matriculados_2022_1_agrupado.drop('Cantidad',axis=1)\n",
    "\n",
    "df_matriculados_2022_2_agrupado = df_matriculados_2022_2.groupby(['CicloLectivoDesCorta','IdAlumno']).size().reset_index(name='Cantidad')\n",
    "df_matriculados_2022_2_agrupado = df_matriculados_2022_2_agrupado.drop('Cantidad',axis=1)\n",
    "\n",
    "df_matriculados_2023_1_agrupado = df_matriculados_2023_1.groupby(['CicloLectivoDesCorta','IdAlumno']).size().reset_index(name='Cantidad')\n",
    "df_matriculados_2023_1_agrupado = df_matriculados_2023_1_agrupado.drop('Cantidad',axis=1)\n",
    "\n",
    "df_matriculados_2023_2_agrupado = df_matriculados_2023_2.groupby(['CicloLectivoDesCorta','IdAlumno']).size().reset_index(name='Cantidad')\n",
    "df_matriculados_2023_2_agrupado = df_matriculados_2023_2_agrupado.drop('Cantidad',axis=1)\n",
    "\n",
    "df_matriculados_2024_1_agrupado = df_matriculados_2024_1.groupby(['CicloLectivoDesCorta','IdAlumno']).size().reset_index(name='Cantidad')\n",
    "df_matriculados_2024_1_agrupado = df_matriculados_2024_1_agrupado.drop('Cantidad',axis=1)"
   ]
  },
  {
   "cell_type": "code",
   "execution_count": 3,
   "metadata": {},
   "outputs": [],
   "source": [
    "# Agregando el campo Anio\n",
    "df_matriculados_2022_1_agrupado['Anio'] = df_matriculados_2022_1_agrupado['CicloLectivoDesCorta'].str.split('-').str[0]\n",
    "df_matriculados_2022_2_agrupado['Anio'] = df_matriculados_2022_2_agrupado['CicloLectivoDesCorta'].str.split('-').str[0]\n",
    "df_matriculados_2023_1_agrupado['Anio'] = df_matriculados_2023_1_agrupado['CicloLectivoDesCorta'].str.split('-').str[0]\n",
    "df_matriculados_2023_2_agrupado['Anio'] = df_matriculados_2023_2_agrupado['CicloLectivoDesCorta'].str.split('-').str[0]\n",
    "df_matriculados_2024_1_agrupado['Anio'] = df_matriculados_2024_1_agrupado['CicloLectivoDesCorta'].str.split('-').str[0]"
   ]
  },
  {
   "cell_type": "code",
   "execution_count": 4,
   "metadata": {},
   "outputs": [],
   "source": [
    "ruta_export = r'C:\\Users\\MSII7\\Documents\\Jasef\\Desercion\\export'\n",
    "\n",
    "name_Matriculados_2022_1 = 'Matriculados_2022_1.csv'\n",
    "name_Matriculados_2022_2 = 'Matriculados_2022_2.csv'\n",
    "name_Matriculados_2023_1 = 'Matriculados_2023_1.csv'\n",
    "name_Matriculados_2023_2 = 'Matriculados_2023_2.csv'\n",
    "name_Matriculados_2024_1 = 'Matriculados_2024_1.csv'\n",
    "\n",
    "ruta_final_Matriculados_2022_1 = os.path.join(ruta_export,name_Matriculados_2022_1)\n",
    "ruta_final_Matriculados_2022_2 = os.path.join(ruta_export,name_Matriculados_2022_2)\n",
    "ruta_final_Matriculados_2023_1 = os.path.join(ruta_export,name_Matriculados_2023_1)\n",
    "ruta_final_Matriculados_2023_2 = os.path.join(ruta_export,name_Matriculados_2023_2)\n",
    "ruta_final_Matriculados_2024_1 = os.path.join(ruta_export,name_Matriculados_2024_1)\n",
    "\n",
    "df_matriculados_2022_1_agrupado.to_csv(ruta_final_Matriculados_2022_1,index=False)\n",
    "df_matriculados_2022_2_agrupado.to_csv(ruta_final_Matriculados_2022_2,index=False)\n",
    "df_matriculados_2023_1_agrupado.to_csv(ruta_final_Matriculados_2023_1,index=False)\n",
    "df_matriculados_2023_2_agrupado.to_csv(ruta_final_Matriculados_2023_2,index=False)\n",
    "df_matriculados_2024_1_agrupado.to_csv(ruta_final_Matriculados_2024_1,index=False)"
   ]
  },
  {
   "cell_type": "code",
   "execution_count": null,
   "metadata": {},
   "outputs": [],
   "source": []
  }
 ],
 "metadata": {
  "kernelspec": {
   "display_name": "Python 3",
   "language": "python",
   "name": "python3"
  },
  "language_info": {
   "codemirror_mode": {
    "name": "ipython",
    "version": 3
   },
   "file_extension": ".py",
   "mimetype": "text/x-python",
   "name": "python",
   "nbconvert_exporter": "python",
   "pygments_lexer": "ipython3",
   "version": "3.12.0"
  }
 },
 "nbformat": 4,
 "nbformat_minor": 2
}
