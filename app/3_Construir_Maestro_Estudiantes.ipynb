{
 "cells": [
  {
   "cell_type": "code",
   "execution_count": 1,
   "metadata": {},
   "outputs": [
    {
     "name": "stdout",
     "output_type": "stream",
     "text": [
      "   Persona_CodPeople Persona_Genero Persona_FechaNacimiento  \\\n",
      "0        100002894.0              M              1994-08-10   \n",
      "1        100006719.0              M              1991-10-29   \n",
      "2        100009673.0              F              1993-08-30   \n",
      "3        100010409.0              F              1993-02-03   \n",
      "4        100012017.0              F              1995-05-27   \n",
      "\n",
      "  UbicGeog_Dist_Nombre     UbicGeog_Prov_Nombre UbicGeog_Dep_Nombre  \\\n",
      "0                  ATE                    LIMA                 LIMA   \n",
      "1          JESÚS MARÍA                    LIMA                 LIMA   \n",
      "2                COMAS                    LIMA                 LIMA   \n",
      "3                LURIN                    LIMA                 LIMA   \n",
      "4           VENTANILLA  PROV. CONST. DEL CALLAO              CALLAO   \n",
      "\n",
      "  PersonaFam_Relacion PersonaFam_Ocupacion  \\\n",
      "0                 NaN                  NaN   \n",
      "1                 NaN                  NaN   \n",
      "2                 NaN                  NaN   \n",
      "3                 NaN                  NaN   \n",
      "4                 NaN                  NaN   \n",
      "\n",
      "                     Colegio_IngresoPost  \n",
      "0     NUESTRA SEÑORA DE LA ESPERANZA-ATE  \n",
      "1                                    NaN  \n",
      "2                                    NaN  \n",
      "3    JOSE FAUSTINI SANCHEZ CARRION-LURIN  \n",
      "4  I.E.P. HEROES DEL PACIFICO-VENTANILLA  \n"
     ]
    }
   ],
   "source": [
    "import pandas as pd\n",
    "import os\n",
    "\n",
    "ruta_source = r\"C:\\Users\\MSII7\\Documents\\Jasef\\Desercion\\sources\"\n",
    "ruta_export = r\"C:\\Users\\MSII7\\Documents\\Jasef\\Desercion\\export\"\n",
    "data_crm = \"DATA FALTANTE CRM.csv\"\n",
    "data_admision = \"DATA ADMISIÓN.xlsx\"\n",
    "ruta_data_crm =  os.path.join(ruta_source,data_crm)\n",
    "ruta_data_admision = os.path.join(ruta_source,data_admision)\n",
    "\n",
    "df_estudiantes = pd.read_csv(ruta_data_crm,delimiter=',', quotechar='\"',on_bad_lines='skip')\n",
    "print(df_estudiantes.head())"
   ]
  },
  {
   "cell_type": "code",
   "execution_count": 2,
   "metadata": {},
   "outputs": [],
   "source": [
    "#Persona_CodPeople sea diferente de 'null'\n",
    "df_estudiantes_filtrado = df_estudiantes[df_estudiantes['Persona_CodPeople'].notna()]"
   ]
  },
  {
   "cell_type": "code",
   "execution_count": 3,
   "metadata": {},
   "outputs": [
    {
     "name": "stdout",
     "output_type": "stream",
     "text": [
      "      IdAlumno Genero FechaNacimiento     Distrito                Provincia  \\\n",
      "0  100002894.0      M      1994-08-10          ATE                    LIMA    \n",
      "1  100006719.0      M      1991-10-29  JESÚS MARÍA                    LIMA    \n",
      "2  100009673.0      F      1993-08-30        COMAS                    LIMA    \n",
      "3  100010409.0      F      1993-02-03        LURIN                    LIMA    \n",
      "4  100012017.0      F      1995-05-27   VENTANILLA  PROV. CONST. DEL CALLAO   \n",
      "\n",
      "  Departamento FamiliarResponsable OcupacionResponsable  \\\n",
      "0         LIMA                 NaN                  NaN   \n",
      "1         LIMA                 NaN                  NaN   \n",
      "2         LIMA                 NaN                  NaN   \n",
      "3         LIMA                 NaN                  NaN   \n",
      "4       CALLAO                 NaN                  NaN   \n",
      "\n",
      "                      ColegioProcedencia  \n",
      "0     NUESTRA SEÑORA DE LA ESPERANZA-ATE  \n",
      "1                                    NaN  \n",
      "2                                    NaN  \n",
      "3    JOSE FAUSTINI SANCHEZ CARRION-LURIN  \n",
      "4  I.E.P. HEROES DEL PACIFICO-VENTANILLA  \n"
     ]
    },
    {
     "name": "stderr",
     "output_type": "stream",
     "text": [
      "C:\\Users\\MSII7\\AppData\\Local\\Temp\\ipykernel_18544\\2613920594.py:2: SettingWithCopyWarning: \n",
      "A value is trying to be set on a copy of a slice from a DataFrame\n",
      "\n",
      "See the caveats in the documentation: https://pandas.pydata.org/pandas-docs/stable/user_guide/indexing.html#returning-a-view-versus-a-copy\n",
      "  df_estudiantes_filtrado.rename(columns={\n"
     ]
    }
   ],
   "source": [
    "# Cambio los nombre de las columnas\n",
    "df_estudiantes_filtrado.rename(columns={\n",
    "    'Persona_CodPeople': 'IdAlumno',\n",
    "    'Persona_Genero': 'Genero',\n",
    "    'Persona_FechaNacimiento': 'FechaNacimiento',\n",
    "    'UbicGeog_Dist_Nombre': 'Distrito',\n",
    "    'UbicGeog_Prov_Nombre': 'Provincia',\n",
    "    'UbicGeog_Dep_Nombre': 'Departamento',\n",
    "    'PersonaFam_Relacion': 'FamiliarResponsable',\n",
    "    'PersonaFam_Ocupacion': 'OcupacionResponsable',\n",
    "    'Colegio_IngresoPost': 'ColegioProcedencia'\n",
    "}, inplace=True)\n",
    "\n",
    "print(df_estudiantes_filtrado.head())"
   ]
  },
  {
   "cell_type": "code",
   "execution_count": 4,
   "metadata": {},
   "outputs": [],
   "source": [
    "df_estudiantes_filtrado = df_estudiantes_filtrado.drop(columns=['ColegioProcedencia'])\n",
    "df_estudiantes_filtrado = df_estudiantes_filtrado.drop(columns=['OcupacionResponsable'])"
   ]
  },
  {
   "cell_type": "code",
   "execution_count": 5,
   "metadata": {},
   "outputs": [],
   "source": [
    "#Agrego campo de Año de nacimiento\n",
    "df_estudiantes_filtrado['AnioNacimiento'] = df_estudiantes_filtrado['FechaNacimiento'].str.split('-').str[0]"
   ]
  },
  {
   "cell_type": "code",
   "execution_count": 6,
   "metadata": {},
   "outputs": [
    {
     "name": "stdout",
     "output_type": "stream",
     "text": [
      "      IdAlumno Genero FechaNacimiento     Distrito                Provincia  \\\n",
      "0  100002894.0      M      1994-08-10          ATE                    LIMA    \n",
      "1  100006719.0      M      1991-10-29  JESÚS MARÍA                    LIMA    \n",
      "2  100009673.0      F      1993-08-30        COMAS                    LIMA    \n",
      "3  100010409.0      F      1993-02-03        LURIN                    LIMA    \n",
      "4  100012017.0      F      1995-05-27   VENTANILLA  PROV. CONST. DEL CALLAO   \n",
      "\n",
      "  Departamento FamiliarResponsable AnioNacimiento  \n",
      "0         LIMA                 NaN           1994  \n",
      "1         LIMA                 NaN           1991  \n",
      "2         LIMA                 NaN           1993  \n",
      "3         LIMA                 NaN           1993  \n",
      "4       CALLAO                 NaN           1995  \n"
     ]
    }
   ],
   "source": [
    "# Eliminar registros duplicados\n",
    "df_estudiantes_filtrado = df_estudiantes_filtrado.drop_duplicates()\n",
    "\n",
    "# Opcional: Resetear el índice si es necesario\n",
    "df_estudiantes_filtrado = df_estudiantes_filtrado.reset_index(drop=True)\n",
    "\n",
    "# Verifica el resultado\n",
    "print(df_estudiantes_filtrado.head())"
   ]
  },
  {
   "cell_type": "code",
   "execution_count": 7,
   "metadata": {},
   "outputs": [],
   "source": [
    "# Primero, asegurémonos de que IdAlumno sea de tipo entero\n",
    "df_estudiantes_filtrado['IdAlumno'] = df_estudiantes_filtrado['IdAlumno'].astype('int64')\n",
    "\n",
    "# Agregar un número de fila (row number) particionado por IdAlumno\n",
    "df_estudiantes_filtrado['RowNumber'] = df_estudiantes_filtrado.groupby('IdAlumno').cumcount() + 1\n",
    "\n",
    "# Filtrar para quedarnos solo con el primer registro de cada IdAlumno\n",
    "df_sin_duplicados = df_estudiantes_filtrado[df_estudiantes_filtrado['RowNumber'] == 1]\n",
    "\n",
    "# Opcional: eliminar la columna RowNumber si ya no es necesaria\n",
    "df_sin_duplicados = df_sin_duplicados.drop(columns=['RowNumber'])"
   ]
  },
  {
   "cell_type": "code",
   "execution_count": 8,
   "metadata": {},
   "outputs": [],
   "source": [
    "df_sin_duplicados.to_csv(os.path.join(ruta_export,'DataMaestra_Estudiante.csv'),index=False)"
   ]
  },
  {
   "cell_type": "code",
   "execution_count": 9,
   "metadata": {},
   "outputs": [
    {
     "name": "stdout",
     "output_type": "stream",
     "text": [
      "        IdAlumno Genero FechaNacimiento              Distrito Provincia  \\\n",
      "34295  100141470      F      2005-08-16  SAN MARTÍN DE PORRES     LIMA    \n",
      "\n",
      "      Departamento FamiliarResponsable AnioNacimiento  \n",
      "34295         LIMA               Madre           2005  \n"
     ]
    }
   ],
   "source": [
    "# Filtrar el DataFrame para encontrar el registro específico\n",
    "resultado = df_sin_duplicados[df_sin_duplicados['IdAlumno'] == 100141470]\n",
    "\n",
    "# Verifica el resultado\n",
    "print(resultado)"
   ]
  }
 ],
 "metadata": {
  "kernelspec": {
   "display_name": "Python 3",
   "language": "python",
   "name": "python3"
  },
  "language_info": {
   "codemirror_mode": {
    "name": "ipython",
    "version": 3
   },
   "file_extension": ".py",
   "mimetype": "text/x-python",
   "name": "python",
   "nbconvert_exporter": "python",
   "pygments_lexer": "ipython3",
   "version": "3.12.0"
  }
 },
 "nbformat": 4,
 "nbformat_minor": 2
}
